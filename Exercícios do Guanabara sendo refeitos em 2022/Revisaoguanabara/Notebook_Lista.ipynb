{
 "cells": [
  {
   "cell_type": "markdown",
   "metadata": {},
   "source": [
    "# Listas - Guanabara - Conteúdo"
   ]
  },
  {
   "cell_type": "markdown",
   "metadata": {},
   "source": [
    "#### Métodos em listas"
   ]
  },
  {
   "cell_type": "code",
   "execution_count": null,
   "metadata": {},
   "outputs": [],
   "source": [
    "lanche = ['Pizza','Macarrão','Hotdog','Melancia','Rabanada']\n",
    "del lanche[0] # deleta pizza pelo índice\n",
    "lanche.pop() # deleta último item da lista. Se passar parâmetro, remove o índice correspondente, mas evitar usá-lo com esse fim. \n",
    "lanche.remove('Hotdog') #remove pelo índice\n",
    "print(lanche)\n",
    "if 'Melancia' in lanche: #utilizando operador In\n",
    "    lanche.remove('Melancia')\n",
    "print(lanche)\n",
    "lista_num = [2,5,6,5,2]\n",
    "lista_num.insert(0,2)\n",
    "print(lista_num)\n",
    "lista_num.remove(2)\n",
    "print(lista_num) # ele remove a primeira ocorrência\n",
    "while 5 in lista_num:\n",
    "    lista_num.remove(5) #para remover todas as ocorrências de um elemtno numa lista com remove.\n",
    "print(lista_num)"
   ]
  },
  {
   "cell_type": "markdown",
   "metadata": {},
   "source": [
    "#### Preenchendo Listas e ordenando-as com o Método Sort()"
   ]
  },
  {
   "cell_type": "code",
   "execution_count": null,
   "metadata": {},
   "outputs": [],
   "source": [
    "valores = list(range(4,11))\n",
    "print(valores)\n",
    "print(*valores)\n",
    "print(*valores, sep = '-')\n",
    "valores.sort()\n",
    "print(valores)\n",
    "valores.sort(reverse = True) #parâmetro reverse = True (ao contrário)\n",
    "print(valores)"
   ]
  },
  {
   "cell_type": "markdown",
   "metadata": {},
   "source": [
    "#### Uso do enumerate  retorna Chave(key), Valor (value)"
   ]
  },
  {
   "cell_type": "code",
   "execution_count": null,
   "metadata": {},
   "outputs": [],
   "source": [
    "lista = [1,2,3,4,5]\n",
    "for chave, valor in enumerate(lista):\n",
    "    print(f'Na posição {chave} encontrei {valor}')\n",
    "    "
   ]
  },
  {
   "cell_type": "markdown",
   "metadata": {},
   "source": [
    "#### Problema na hora de igualar listas. Como resolver?"
   ]
  },
  {
   "cell_type": "code",
   "execution_count": null,
   "metadata": {},
   "outputs": [],
   "source": [
    "a = [2,3,4,5]\n",
    "b = a\n",
    "print(b) # quando igualo uma lista a outra, o python cria uma rede. Se eu mexer na lista b, a lista A também será alterada.\n",
    "b.append(10)\n",
    "print(a) #veja que adicionei o valor 10 à lista b, mas a lista A foi alterada também. \n",
    "\n",
    "# Como resolver esse problema? \n",
    "a = [2,3,4,5]\n",
    "b = a[:] #b agora vai receber uma cópia de a, e não haverá a formação dessa rede/ligação.\n",
    "b.append(10)\n",
    "print(a) #note que atualizei b sem mexer em A\n"
   ]
  },
  {
   "cell_type": "markdown",
   "metadata": {},
   "source": [
    "# Listas - Guanabara - Exercícios"
   ]
  },
  {
   "cell_type": "markdown",
   "metadata": {},
   "source": [
    "#### Exercício Python 078: Faça um programa que leia 5 valores numéricos e guarde-os em uma lista. No final, mostre qual foi o maior e o menor valor digitado e as suas respectivas posições na lista. "
   ]
  },
  {
   "cell_type": "code",
   "execution_count": 97,
   "metadata": {},
   "outputs": [
    {
     "name": "stdout",
     "output_type": "stream",
     "text": [
      "Você digitou [2, 2, 5, 5, 5]\n",
      "O maior valor foi 5 na(s) posição(ões): 2...3...4...\n",
      "O menor valor foi 2 na(s) posição(ões): 0...1...\n"
     ]
    }
   ],
   "source": [
    "#utilizando lógica\n",
    "maior = menor = 0\n",
    "valores = []\n",
    "for c in range(0,5):\n",
    "    valores.append(int(input(f'Digite o valor na posição {c}')))\n",
    "    if c == 0:\n",
    "        maior = menor = valores[c]\n",
    "    else:\n",
    "        if valores[c] > maior:\n",
    "            maior = valores[c]\n",
    "        if valores[c] < menor:\n",
    "            menor = valores[c]\n",
    "print(f'Você digitou {valores}')\n",
    "\n",
    "print(f'O maior valor foi {maior} na(s) posição(ões): ',end= '')\n",
    "for i, v in enumerate(valores):\n",
    "    if v == maior:\n",
    "        print(f'{i}...',end='')\n",
    "print()\n",
    "print(f'O menor valor foi {menor} na(s) posição(ões): ',end= '')\n",
    "for i, v in enumerate(valores):\n",
    "    if v == menor:\n",
    "        print(f'{i}...',end= '')\n",
    "\n",
    "print()\n",
    "        \n",
    "\n",
    "\n",
    "\n",
    "    "
   ]
  },
  {
   "cell_type": "code",
   "execution_count": 102,
   "metadata": {},
   "outputs": [
    {
     "name": "stdout",
     "output_type": "stream",
     "text": [
      "Você digitou [5, 5, 2, 2, 4]\n",
      "O maior valor foi 5 nas posições: 0...1...\n",
      "O menor valor foi 2 nas posições: 2...3..."
     ]
    }
   ],
   "source": [
    "#utilizando Max e Min\n",
    "valores = []\n",
    "for c in range(0,5):\n",
    "    valores.append(int(input(f'Digite um valor na posição {c}')))\n",
    "maior = (max(valores))\n",
    "menor = (min(valores))\n",
    "print(f'Você digitou {valores}')\n",
    "print(f'O maior valor foi {maior} nas posições: ',end='')\n",
    "for i, v in enumerate(valores):\n",
    "    if v == maior:\n",
    "        print(f'{i}...',end='')\n",
    "print()\n",
    "print(f'O menor valor foi {menor} nas posições: ',end= '')\n",
    "for i, v in enumerate(valores):\n",
    "    if v == menor:\n",
    "        print(f'{i}...',end= '')"
   ]
  }
 ],
 "metadata": {
  "interpreter": {
   "hash": "e98e9768cb023e7c615d92e2b60789d511ec8e3d51eba73a4483127dc66b109e"
  },
  "kernelspec": {
   "display_name": "Python 3.9.7 64-bit ('base': conda)",
   "language": "python",
   "name": "python3"
  },
  "language_info": {
   "codemirror_mode": {
    "name": "ipython",
    "version": 3
   },
   "file_extension": ".py",
   "mimetype": "text/x-python",
   "name": "python",
   "nbconvert_exporter": "python",
   "pygments_lexer": "ipython3",
   "version": "3.9.7"
  },
  "orig_nbformat": 4
 },
 "nbformat": 4,
 "nbformat_minor": 2
}
