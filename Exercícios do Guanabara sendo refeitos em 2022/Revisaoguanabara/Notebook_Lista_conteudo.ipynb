{
 "cells": [
  {
   "cell_type": "markdown",
   "metadata": {},
   "source": [
    "# Listas PARTE 01 - Guanabara - Conteúdo"
   ]
  },
  {
   "cell_type": "markdown",
   "metadata": {},
   "source": [
    "#### Métodos em listas"
   ]
  },
  {
   "cell_type": "code",
   "execution_count": null,
   "metadata": {},
   "outputs": [],
   "source": [
    "lanche = ['Pizza','Macarrão','Hotdog','Melancia','Rabanada']\n",
    "del lanche[0] # deleta pizza pelo índice\n",
    "lanche.pop() # deleta último item da lista. Se passar parâmetro, remove o índice correspondente, mas evitar usá-lo com esse fim. \n",
    "lanche.remove('Hotdog') #remove pelo índice\n",
    "print(lanche)\n",
    "if 'Melancia' in lanche: #utilizando operador In\n",
    "    lanche.remove('Melancia')\n",
    "print(lanche)\n",
    "lista_num = [2,5,6,5,2]\n",
    "lista_num.insert(0,2)\n",
    "print(lista_num)\n",
    "lista_num.remove(2)\n",
    "print(lista_num) # ele remove a primeira ocorrência\n",
    "while 5 in lista_num:\n",
    "    lista_num.remove(5) #para remover todas as ocorrências de um elemtno numa lista com remove.\n",
    "print(lista_num)"
   ]
  },
  {
   "cell_type": "markdown",
   "metadata": {},
   "source": [
    "#### Preenchendo Listas e ordenando-as com o Método Sort()"
   ]
  },
  {
   "cell_type": "code",
   "execution_count": null,
   "metadata": {},
   "outputs": [],
   "source": [
    "valores = list(range(4,11))\n",
    "print(valores)\n",
    "print(*valores)\n",
    "print(*valores, sep = '-')\n",
    "valores.sort()\n",
    "print(valores)\n",
    "valores.sort(reverse = True) #parâmetro reverse = True (ao contrário)\n",
    "print(valores)"
   ]
  },
  {
   "cell_type": "markdown",
   "metadata": {},
   "source": [
    "#### Uso do enumerate  retorna Chave(key), Valor (value)"
   ]
  },
  {
   "cell_type": "code",
   "execution_count": null,
   "metadata": {},
   "outputs": [],
   "source": [
    "lista = [1,2,3,4,5]\n",
    "for chave, valor in enumerate(lista):\n",
    "    print(f'Na posição {chave} encontrei {valor}')\n",
    "    "
   ]
  },
  {
   "cell_type": "markdown",
   "metadata": {},
   "source": [
    "#### Problema na hora de igualar listas. Como resolver?"
   ]
  },
  {
   "cell_type": "code",
   "execution_count": null,
   "metadata": {},
   "outputs": [],
   "source": [
    "a = [2,3,4,5]\n",
    "b = a\n",
    "print(b) # quando igualo uma lista a outra, o python cria uma rede. Se eu mexer na lista b, a lista A também será alterada.\n",
    "b.append(10)\n",
    "print(a) #veja que adicionei o valor 10 à lista b, mas a lista A foi alterada também. \n",
    "\n",
    "# Como resolver esse problema? \n",
    "a = [2,3,4,5]\n",
    "b = a[:] #b agora vai receber uma cópia de a, e não haverá a formação dessa rede/ligação.\n",
    "b.append(10)\n",
    "print(a) #note que atualizei b sem mexer em A\n"
   ]
  },
  {
   "cell_type": "markdown",
   "metadata": {},
   "source": [
    "# Listas Parte 02"
   ]
  },
  {
   "cell_type": "markdown",
   "metadata": {},
   "source": [
    "Listas dentro de listas"
   ]
  },
  {
   "cell_type": "code",
   "execution_count": 21,
   "metadata": {},
   "outputs": [
    {
     "name": "stdout",
     "output_type": "stream",
     "text": [
      "[['Matheus', 23]]\n"
     ]
    }
   ],
   "source": [
    "galera = []\n",
    "galera.append('Matheus')\n",
    "galera.append(23)\n",
    "nova_galera = []\n",
    "nova_galera.append(galera[:]) # aplicação de cópia\n",
    "galera[0] = 'MATHEUSSUPR'\n",
    "galera[1] = 300\n",
    "print(nova_galera)"
   ]
  },
  {
   "cell_type": "code",
   "execution_count": 33,
   "metadata": {},
   "outputs": [
    {
     "name": "stdout",
     "output_type": "stream",
     "text": [
      "[['matheus', 22], ['henrique', 13]]\n",
      "[]\n",
      "matheus é maior de idade!\n",
      "É MENOR\n"
     ]
    }
   ],
   "source": [
    "galera = []\n",
    "dados = []\n",
    "for c in range(0,2):\n",
    "  dados.append(str(input('Nome: ')))\n",
    "  dados.append(int(input('Idade: ')))\n",
    "  galera.append(dados[:])\n",
    "  dados.clear()\n",
    "print(galera)\n",
    "print(dados)\n",
    "for p in galera:\n",
    "    if p[1] >= 18:\n",
    "        print(f'{p[0]} é maior de idade!')\n",
    "    else:\n",
    "        print('É MENOR')"
   ]
  },
  {
   "cell_type": "code",
   "execution_count": 35,
   "metadata": {},
   "outputs": [
    {
     "name": "stdout",
     "output_type": "stream",
     "text": [
      "matheus é maior de idade!\n",
      "henrique É MENOR\n"
     ]
    }
   ],
   "source": [
    "# executar celula anterior\n",
    "for p in galera:\n",
    "    if p[1] >= 18:\n",
    "        print(f'{p[0]} é maior de idade!')\n",
    "    else:\n",
    "        print(f'{p[0]} É MENOR')"
   ]
  }
 ],
 "metadata": {
  "interpreter": {
   "hash": "e98e9768cb023e7c615d92e2b60789d511ec8e3d51eba73a4483127dc66b109e"
  },
  "kernelspec": {
   "display_name": "Python 3.9.7 64-bit ('base': conda)",
   "language": "python",
   "name": "python3"
  },
  "language_info": {
   "codemirror_mode": {
    "name": "ipython",
    "version": 3
   },
   "file_extension": ".py",
   "mimetype": "text/x-python",
   "name": "python",
   "nbconvert_exporter": "python",
   "pygments_lexer": "ipython3",
   "version": "3.9.7"
  },
  "orig_nbformat": 4
 },
 "nbformat": 4,
 "nbformat_minor": 2
}
