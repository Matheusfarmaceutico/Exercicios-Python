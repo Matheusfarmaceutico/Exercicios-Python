{
 "cells": [
  {
   "cell_type": "markdown",
   "metadata": {},
   "source": [
    "# Exercício Python 070\n",
    " Crie um programa que leia o nome e o preço de vários produtos. O programa deverá perguntar se o usuário vai continuar ou não. No final, mostre:\n",
    "A) qual é o total gasto na compra.\n",
    "B) quantos produtos custam mais de R$1000.\n",
    "C) qual é o nome do produto mais barato."
   ]
  },
  {
   "cell_type": "code",
   "execution_count": null,
   "metadata": {},
   "outputs": [],
   "source": [
    "tot = cont = produtos_caros = valor_produto_barato = 0\n",
    "nome_produto_barato = ' '\n",
    "\n",
    "while True:\n",
    "    produto = str(input('Digite o nome do produto: '))\n",
    "    valor_produto = float(input('Digite o valor do produto: '))\n",
    "    tot += valor_produto\n",
    "    if valor_produto > 1000:\n",
    "        produtos_caros += 1\n",
    "    if cont == 0:\n",
    "        nome_produto_barato = produto\n",
    "        valor_produto_barato = valor_produto\n",
    "    else:\n",
    "        if valor_produto < valor_produto_barato:\n",
    "            valor_produto_barato = valor_produto\n",
    "            nome_produto_barato = produto\n",
    "    cont += 1\n",
    "    continuar = ' '\n",
    "    while continuar not in 'SsNn':\n",
    "        continuar = str(input('Quer continuar? [S/N]: '))\n",
    "    if continuar in 'Nn':\n",
    "        break\n",
    "print(f'A soma do valor dos produtos é R$ {tot:.2f}')\n",
    "print(f'A quantidade de produtos que custam mais do que 1000 reais é {produtos_caros}')\n",
    "print(f'O produto mais barato foi {nome_produto_barato}')"
   ]
  },
  {
   "cell_type": "markdown",
   "metadata": {},
   "source": [
    "# Exercício Python 071: \n",
    "Crie um programa que simule o funcionamento de um caixa eletrônico. No início, pergunte ao usuário qual será o valor a ser sacado (número inteiro) e o programa vai informar quantas cédulas de cada valor serão entregues.\n",
    "OBS: considere que o caixa possui cédulas de R$50, R$20, R$10 e R$1."
   ]
  },
  {
   "cell_type": "code",
   "execution_count": null,
   "metadata": {},
   "outputs": [],
   "source": []
  }
 ],
 "metadata": {
  "interpreter": {
   "hash": "f244901a1cefac460a7f1ec92d059106258d57f2a6ff27407b0c4aa071020808"
  },
  "kernelspec": {
   "display_name": "Python 3.10.0 64-bit",
   "language": "python",
   "name": "python3"
  },
  "language_info": {
   "codemirror_mode": {
    "name": "ipython",
    "version": 3
   },
   "file_extension": ".py",
   "mimetype": "text/x-python",
   "name": "python",
   "nbconvert_exporter": "python",
   "pygments_lexer": "ipython3",
   "version": "3.9.7"
  },
  "orig_nbformat": 4
 },
 "nbformat": 4,
 "nbformat_minor": 2
}
