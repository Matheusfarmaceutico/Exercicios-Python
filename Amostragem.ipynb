{
  "nbformat": 4,
  "nbformat_minor": 0,
  "metadata": {
    "colab": {
      "name": "Amostragem.ipynb",
      "provenance": [],
      "collapsed_sections": [],
      "authorship_tag": "ABX9TyOUafH4M5IZ+2tKneVbh5PR",
      "include_colab_link": true
    },
    "kernelspec": {
      "name": "python3",
      "display_name": "Python 3"
    },
    "language_info": {
      "name": "python"
    }
  },
  "cells": [
    {
      "cell_type": "markdown",
      "metadata": {
        "id": "view-in-github",
        "colab_type": "text"
      },
      "source": [
        "<a href=\"https://colab.research.google.com/github/Matheusfarmaceutico/Exercicios-Python/blob/main/Amostragem.ipynb\" target=\"_parent\"><img src=\"https://colab.research.google.com/assets/colab-badge.svg\" alt=\"Open In Colab\"/></a>"
      ]
    },
    {
      "cell_type": "markdown",
      "source": [
        "**Amostragem Simples** "
      ],
      "metadata": {
        "id": "5_NU9yLMN23L"
      }
    },
    {
      "cell_type": "markdown",
      "source": [
        "---\n",
        "\n",
        "**CARREGAMENTO DA BASE DE DADOS**\n",
        "\n",
        "---\n"
      ],
      "metadata": {
        "id": "W-0uF-jpOeIo"
      }
    },
    {
      "cell_type": "code",
      "execution_count": 1,
      "metadata": {
        "id": "ZsyEGcRcNQT5"
      },
      "outputs": [],
      "source": [
        "#Carregamento de bibliotecas\n",
        "import pandas as pd #importação de arquivos\n",
        "import random\n",
        "import numpy as np #biblioteca científica(números, média, contagem, etc)\n",
        "\n"
      ]
    },
    {
      "cell_type": "code",
      "source": [
        "db = pd.read_csv('census.csv') #carregar base de dados"
      ],
      "metadata": {
        "id": "r_g39JloNYw0"
      },
      "execution_count": 2,
      "outputs": []
    },
    {
      "cell_type": "markdown",
      "source": [
        "---\n",
        "**VISUALIZAR BASE DE DADOS**\n",
        "\n",
        "\n",
        "---\n",
        "\n",
        "\n",
        "\n"
      ],
      "metadata": {
        "id": "QVJ1nV08R-Dp"
      }
    },
    {
      "cell_type": "code",
      "source": [
        "db.shape #Comando shape vai indicar quantas linhas e quantas colunas (x,y)"
      ],
      "metadata": {
        "id": "ogX4iNTINZCP"
      },
      "execution_count": null,
      "outputs": []
    },
    {
      "cell_type": "code",
      "source": [
        "db.head() #mostrar os 5 primeiros casos"
      ],
      "metadata": {
        "id": "Cda1kqbONZKF"
      },
      "execution_count": null,
      "outputs": []
    },
    {
      "cell_type": "code",
      "source": [
        "db.tail() #significa rabo, são as 5 últimas ocorrências"
      ],
      "metadata": {
        "id": "2-Xk2E1CNZRa"
      },
      "execution_count": null,
      "outputs": []
    },
    {
      "cell_type": "markdown",
      "source": [
        "--- \n",
        "**AMOSTRAGEM SIMPLES**\n",
        "\n",
        "\n",
        "\n",
        "\n",
        "---"
      ],
      "metadata": {
        "id": "UfdLpc6uUbJQ"
      }
    },
    {
      "cell_type": "code",
      "source": [
        "df_aleatoria_simples = db.sample(n=100)\n",
        "\"\"\"cria uma variável de quadro de dados(dataframe) que seleciona\n",
        "aleatoriamente 100 ocorrências/casos\"\"\""
      ],
      "metadata": {
        "colab": {
          "base_uri": "https://localhost:8080/",
          "height": 35
        },
        "id": "vUIlRzl2NZZj",
        "outputId": "95fee32e-3a3f-48e2-8913-829ade7ba5e0"
      },
      "execution_count": 14,
      "outputs": [
        {
          "output_type": "execute_result",
          "data": {
            "application/vnd.google.colaboratory.intrinsic+json": {
              "type": "string"
            },
            "text/plain": [
              "'cria uma variável de quadro de dados(dataframe) que seleciona\\n#aleatoriamente'"
            ]
          },
          "metadata": {},
          "execution_count": 14
        }
      ]
    },
    {
      "cell_type": "code",
      "source": [
        "df_aleatoria_simples.head() #exibir as 100 ocorrências"
      ],
      "metadata": {
        "id": "Jwoi_0nXW71r"
      },
      "execution_count": null,
      "outputs": []
    },
    {
      "cell_type": "code",
      "source": [
        ""
      ],
      "metadata": {
        "id": "JCPiwX6SX4in"
      },
      "execution_count": null,
      "outputs": []
    }
  ]
}