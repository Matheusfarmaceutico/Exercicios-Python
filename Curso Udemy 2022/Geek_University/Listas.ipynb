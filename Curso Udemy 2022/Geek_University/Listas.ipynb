{
 "cells": [
  {
   "cell_type": "code",
   "execution_count": 13,
   "metadata": {},
   "outputs": [
    {
     "name": "stdout",
     "output_type": "stream",
     "text": [
      "M a t h e u s\n"
     ]
    }
   ],
   "source": [
    "lista5 = list('Matheus')\n",
    "print(lista5)\n"
   ]
  },
  {
   "cell_type": "code",
   "execution_count": 14,
   "metadata": {},
   "outputs": [
    {
     "name": "stdout",
     "output_type": "stream",
     "text": [
      "Matheus\n"
     ]
    }
   ],
   "source": [
    "lista5 = list('Matheus') #EXEMPLO NÃO DADO NA AULA, APENAS OBSERVAÇÃO MINHA = desempacotamento\n",
    "print(*lista5, sep = '')"
   ]
  },
  {
   "cell_type": "code",
   "execution_count": null,
   "metadata": {},
   "outputs": [],
   "source": [
    "# Ordenar listas\n"
   ]
  }
 ],
 "metadata": {
  "interpreter": {
   "hash": "e98e9768cb023e7c615d92e2b60789d511ec8e3d51eba73a4483127dc66b109e"
  },
  "kernelspec": {
   "display_name": "Python 3.9.7 64-bit ('base': conda)",
   "language": "python",
   "name": "python3"
  },
  "language_info": {
   "codemirror_mode": {
    "name": "ipython",
    "version": 3
   },
   "file_extension": ".py",
   "mimetype": "text/x-python",
   "name": "python",
   "nbconvert_exporter": "python",
   "pygments_lexer": "ipython3",
   "version": "3.9.7"
  },
  "orig_nbformat": 4
 },
 "nbformat": 4,
 "nbformat_minor": 2
}
