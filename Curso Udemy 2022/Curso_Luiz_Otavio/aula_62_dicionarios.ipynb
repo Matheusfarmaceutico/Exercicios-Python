{
 "cells": [
  {
   "cell_type": "code",
   "execution_count": 38,
   "metadata": {},
   "outputs": [
    {
     "name": "stdout",
     "output_type": "stream",
     "text": [
      "123\n"
     ]
    }
   ],
   "source": [
    "d1 = {'chave01':123}\n",
    "print(d1['chave01'])"
   ]
  },
  {
   "cell_type": "code",
   "execution_count": 39,
   "metadata": {},
   "outputs": [
    {
     "name": "stdout",
     "output_type": "stream",
     "text": [
      "123\n",
      "456\n"
     ]
    }
   ],
   "source": [
    "# adicionar mais um sistema de chave valor\n",
    "\n",
    "d1 = {'chave01':123}\n",
    "print(d1['chave01'])\n",
    "d1['chave02'] = 456\n",
    "print(d1['chave02'])\n"
   ]
  },
  {
   "cell_type": "code",
   "execution_count": 40,
   "metadata": {},
   "outputs": [
    {
     "name": "stdout",
     "output_type": "stream",
     "text": [
      "9090\n",
      "Seu Madruga\n"
     ]
    }
   ],
   "source": [
    "#outra forma de criar dicionários\n",
    "\n",
    "acobrar = dict(chave3 = 9090, chave4 = 'Seu Madruga')\n",
    "print(acobrar['chave3'])\n",
    "print(acobrar['chave4'])"
   ]
  },
  {
   "cell_type": "code",
   "execution_count": 41,
   "metadata": {},
   "outputs": [
    {
     "name": "stdout",
     "output_type": "stream",
     "text": [
      "is not plural\n"
     ]
    }
   ],
   "source": [
    "#chaves precisam ser únicas\n",
    "\n",
    "unic = {'singulair':'Montelucast', 'singulair':'is not plural'}\n",
    "print(unic['singulair']) #note que a última ocorrência da chave que importa. "
   ]
  },
  {
   "cell_type": "code",
   "execution_count": 42,
   "metadata": {},
   "outputs": [
    {
     "name": "stdout",
     "output_type": "stream",
     "text": [
      "Um, dois, três, quatro, cinco\n"
     ]
    }
   ],
   "source": [
    "#chaves podem ser qualquer valor imutável em python: strings, inteiros, e até mesmo tuplas...\n",
    "tupla = (1,2,3,4,5)\n",
    "chave_tupla = {tupla:'Um, dois, três, quatro, cinco'}\n",
    "print(chave_tupla[tupla])"
   ]
  },
  {
   "cell_type": "code",
   "execution_count": 43,
   "metadata": {},
   "outputs": [
    {
     "ename": "KeyError",
     "evalue": "'Orange'",
     "output_type": "error",
     "traceback": [
      "\u001b[1;31m---------------------------------------------------------------------------\u001b[0m",
      "\u001b[1;31mKeyError\u001b[0m                                  Traceback (most recent call last)",
      "\u001b[1;32m~\\AppData\\Local\\Temp\\ipykernel_9828\\3436465910.py\u001b[0m in \u001b[0;36m<module>\u001b[1;34m\u001b[0m\n\u001b[0;32m      3\u001b[0m \u001b[1;32mif\u001b[0m \u001b[1;34m'Orange'\u001b[0m \u001b[1;32mnot\u001b[0m \u001b[1;32min\u001b[0m \u001b[0mcomidas\u001b[0m\u001b[1;33m:\u001b[0m\u001b[1;33m\u001b[0m\u001b[1;33m\u001b[0m\u001b[0m\n\u001b[0;32m      4\u001b[0m     \u001b[0mfood\u001b[0m\u001b[1;33m[\u001b[0m\u001b[1;34m'Orange'\u001b[0m\u001b[1;33m]\u001b[0m \u001b[1;33m=\u001b[0m \u001b[1;34m'Laranja'\u001b[0m\u001b[1;33m\u001b[0m\u001b[1;33m\u001b[0m\u001b[0m\n\u001b[1;32m----> 5\u001b[1;33m \u001b[0mprint\u001b[0m\u001b[1;33m(\u001b[0m\u001b[0mfood\u001b[0m\u001b[1;33m[\u001b[0m\u001b[1;34m'Orange'\u001b[0m\u001b[1;33m]\u001b[0m\u001b[1;33m)\u001b[0m\u001b[1;33m\u001b[0m\u001b[1;33m\u001b[0m\u001b[0m\n\u001b[0m",
      "\u001b[1;31mKeyError\u001b[0m: 'Orange'"
     ]
    }
   ],
   "source": [
    "#checando se uma chave existe, se n existir ele vai ser criada.\n",
    "food = {'noodle':'Macarrão','Apple':'Maçã'}\n",
    "if 'Orange' not in comidas:\n",
    "    food['Orange'] = 'Laranja'\n",
    "print(food['Orange'])"
   ]
  },
  {
   "cell_type": "code",
   "execution_count": null,
   "metadata": {},
   "outputs": [
    {
     "name": "stdout",
     "output_type": "stream",
     "text": [
      "None\n"
     ]
    }
   ],
   "source": [
    "food = {'noodle':'Macarrão','Apple':'Maçã'}\n",
    "print(food.get('banana')) # utilizando get para verificar se há ou não uma chave.\n"
   ]
  },
  {
   "cell_type": "code",
   "execution_count": null,
   "metadata": {},
   "outputs": [
    {
     "name": "stdout",
     "output_type": "stream",
     "text": [
      "Macarrão\n"
     ]
    }
   ],
   "source": [
    "food = {'noodle':'Macarrão','Apple':'Maçã'}\n",
    "if food.get('noodle') is not None:\n",
    "    print(food['noodle'])\n",
    "else:\n",
    "    print('Banana não cadastrada!')"
   ]
  },
  {
   "cell_type": "code",
   "execution_count": null,
   "metadata": {},
   "outputs": [
    {
     "data": {
      "text/plain": [
       "'suco'"
      ]
     },
     "execution_count": 27,
     "metadata": {},
     "output_type": "execute_result"
    }
   ],
   "source": [
    "#posso utilizar update para criar nova chave\n",
    "food = {'noodle':'Macarrão','Apple':'Maçã'}\n",
    "food.update({'juice':'suco'})\n",
    "food['juice']"
   ]
  },
  {
   "cell_type": "code",
   "execution_count": null,
   "metadata": {},
   "outputs": [
    {
     "name": "stdout",
     "output_type": "stream",
     "text": [
      "{'Apple': 'Maçã'}\n",
      "True\n"
     ]
    }
   ],
   "source": [
    "#apagando valor com del\n",
    "food = {'noodle':'Macarrão','Apple':'Maçã'}\n",
    "del food['noodle']\n",
    "print(food)\n",
    "print('Apple' in food) #forma de verificar se há alguma chave e valor cadastrado\n"
   ]
  },
  {
   "cell_type": "code",
   "execution_count": null,
   "metadata": {},
   "outputs": [
    {
     "name": "stdout",
     "output_type": "stream",
     "text": [
      "True\n",
      "True\n",
      "dict_values(['Macarrão', 'Maçã'])\n",
      "2\n"
     ]
    }
   ],
   "source": [
    "food = {'noodle':'Macarrão','Apple':'Maçã'}\n",
    "print('Macarrão' in food.values()) # checando se um valor existe\n",
    "print('noodle' in food.keys()) #checando se uma chave existe\n",
    "print(food.values())\n",
    "print(len(food)) #quantos pares (chave: valor) existem.\n"
   ]
  },
  {
   "cell_type": "code",
   "execution_count": 52,
   "metadata": {},
   "outputs": [
    {
     "name": "stdout",
     "output_type": "stream",
     "text": [
      "Macarrão\n",
      "noodle\n",
      "Maçã\n",
      "Apple\n"
     ]
    }
   ],
   "source": [
    "food = {'noodle':'Macarrão','Apple':'Maçã'}\n",
    "for k, v in food.items():\n",
    "    print(v)\n",
    "    print(k)"
   ]
  }
 ],
 "metadata": {
  "interpreter": {
   "hash": "e98e9768cb023e7c615d92e2b60789d511ec8e3d51eba73a4483127dc66b109e"
  },
  "kernelspec": {
   "display_name": "Python 3.9.7 ('base')",
   "language": "python",
   "name": "python3"
  },
  "language_info": {
   "codemirror_mode": {
    "name": "ipython",
    "version": 3
   },
   "file_extension": ".py",
   "mimetype": "text/x-python",
   "name": "python",
   "nbconvert_exporter": "python",
   "pygments_lexer": "ipython3",
   "version": "3.9.7"
  },
  "orig_nbformat": 4
 },
 "nbformat": 4,
 "nbformat_minor": 2
}
