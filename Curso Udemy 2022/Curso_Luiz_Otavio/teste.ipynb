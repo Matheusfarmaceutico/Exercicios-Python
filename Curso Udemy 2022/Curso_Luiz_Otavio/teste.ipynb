{
 "cells": [
  {
   "cell_type": "code",
   "execution_count": 5,
   "metadata": {},
   "outputs": [
    {
     "name": "stdout",
     "output_type": "stream",
     "text": [
      "[1, 2, 3, 4, 5, 6, 7, 8, 9, 10]\n",
      "[9, 1, 8, 9, 9, 7, 2, 1, 6, 8]\n",
      "[1, 3, 2, 2, 8, 6, 5, 9, 6, 7]\n",
      "[3, 8, 2, 8, 6, 7, 7, 3, 1, 9]\n",
      "[4, 8, 8, 8, 5, 1, 10, 3, 1, 7]\n",
      "[1, 3, 7, 2, 2, 1, 5, 1, 9, 9]\n",
      "[10, 2, 2, 1, 3, 5, 10, 5, 10, 1]\n",
      "[1, 6, 1, 5, 1, 1, 1, 4, 7, 3]\n",
      "[1, 3, 7, 1, 10, 5, 9, 2, 5, 7]\n",
      "[4, 7, 6, 5, 2, 9, 2, 1, 2, 1]\n",
      "[5, 3, 1, 8, 5, 7, 1, 8, 8, 7]\n",
      "[10, 9, 8, 7, 6, 5, 4, 3, 2, 1]\n"
     ]
    }
   ],
   "source": [
    "\n",
    "\n",
    "\n",
    "lista_de_listas_de_inteiros = [\n",
    "    [1, 2, 3, 4, 5, 6, 7, 8, 9, 10],\n",
    "    [9, 1, 8, 9, 9, 7, 2, 1, 6, 8],\n",
    "    [1, 3, 2, 2, 8, 6, 5, 9, 6, 7],\n",
    "    [3, 8, 2, 8, 6, 7, 7, 3, 1, 9],\n",
    "    [4, 8, 8, 8, 5, 1, 10, 3, 1, 7],\n",
    "    [1, 3, 7, 2, 2, 1, 5, 1, 9, 9],\n",
    "    [10, 2, 2, 1, 3, 5, 10, 5, 10, 1],\n",
    "    [1, 6, 1, 5, 1, 1, 1, 4, 7, 3],\n",
    "    [1, 3, 7, 1, 10, 5, 9, 2, 5, 7],\n",
    "    [4, 7, 6, 5, 2, 9, 2, 1, 2, 1],\n",
    "    [5, 3, 1, 8, 5, 7, 1, 8, 8, 7],\n",
    "    [10, 9, 8, 7, 6, 5, 4, 3, 2, 1],\n",
    "]\n",
    "def anti_duplo(*args):\n",
    "    for vlm in args:\n",
    "        print(vlm)\n",
    "\n",
    "\n",
    "anti_duplo(*lista_de_listas_de_inteiros)"
   ]
  }
 ],
 "metadata": {
  "interpreter": {
   "hash": "916dbcbb3f70747c44a77c7bcd40155683ae19c65e1c03b4aa3499c5328201f1"
  },
  "kernelspec": {
   "display_name": "Python 3.9.7 64-bit",
   "language": "python",
   "name": "python3"
  },
  "language_info": {
   "codemirror_mode": {
    "name": "ipython",
    "version": 3
   },
   "file_extension": ".py",
   "mimetype": "text/x-python",
   "name": "python",
   "nbconvert_exporter": "python",
   "pygments_lexer": "ipython3",
   "version": "3.9.7"
  },
  "orig_nbformat": 4
 },
 "nbformat": 4,
 "nbformat_minor": 2
}
