{
 "cells": [
  {
   "cell_type": "code",
   "execution_count": 2,
   "metadata": {},
   "outputs": [
    {
     "name": "stdout",
     "output_type": "stream",
     "text": [
      "10\n"
     ]
    }
   ],
   "source": [
    "a = lambda x, y: x * y\n",
    "\n",
    "print(a(2,5))"
   ]
  },
  {
   "cell_type": "code",
   "execution_count": 5,
   "metadata": {},
   "outputs": [
    {
     "name": "stdout",
     "output_type": "stream",
     "text": [
      "[['P1,', 13], ['P2,', 16], ['P3,', 7], ['P4,', 50], ['P5,', 8]]\n",
      "5\n"
     ]
    }
   ],
   "source": [
    "#ORDENAR PRODUTOS DE UMA LISTA DENTRO DE UMA LISTA: maneira que NÃO funciona. (apenas utilizando o sort diretamente)\n",
    "produtos = [\n",
    "['P1,', 13], \n",
    "['P2,', 16],\n",
    "['P3,', 7],\n",
    "['P4,', 50],\n",
    "['P5,', 8]]\n",
    "produtos.sort()\n",
    "print(produtos)\n",
    "print(len(produtos))"
   ]
  },
  {
   "cell_type": "code",
   "execution_count": 10,
   "metadata": {},
   "outputs": [
    {
     "name": "stdout",
     "output_type": "stream",
     "text": [
      "[['P3,', 7.5], ['P5,', 8.5], ['P1,', 13.15], ['P2,', 16.16], ['P4,', 50]]\n",
      "7.5\n"
     ]
    }
   ],
   "source": [
    "#ORDENAR PRODUTOS DE UMA LISTA DENTRO DE UMA LISTA A PARTIR DE UMA FUNÇÃO: maneira que funciona (ORDENAÇÃO DE ACORDO COM PREÇO DO PRODUTO.)\n",
    "produtos = [\n",
    "['P1,', 13.15], \n",
    "['P2,', 16.16],\n",
    "['P3,', 7.50],\n",
    "['P4,', 50],\n",
    "['P5,', 8.50]]\n",
    "\n",
    "def organizar_lista(item):\n",
    "    return item[1]\n",
    "produtos.sort(key = organizar_lista)\n",
    "print(produtos)\n",
    "# note que o método key de sort ou sorted olha para dentro de uma lista imersa em outra, então é como se o método fizesse o que está abaixo: \n",
    "print(produtos[0][1])"
   ]
  },
  {
   "cell_type": "code",
   "execution_count": 17,
   "metadata": {},
   "outputs": [
    {
     "name": "stdout",
     "output_type": "stream",
     "text": [
      "[['P4,', 50], ['P2,', 16.16], ['P1,', 13.15], ['P5,', 8.5], ['P3,', 7.5]]\n"
     ]
    }
   ],
   "source": [
    "#Note que no exemplo anterior, tive que criar uma função e apontá-la no parâmetro key. É mais usual que utilizemos as funções lambda.\n",
    "\n",
    "produtos = [\n",
    "['P1,', 13.15], \n",
    "['P2,', 16.16],\n",
    "['P3,', 7.50],\n",
    "['P4,', 50],\n",
    "['P5,', 8.50]]\n",
    "\n",
    "ordenada_mais_caro = sorted(produtos, key= lambda preco: preco[1], reverse= True)\n",
    "print(ordenada_mais_caro)"
   ]
  }
 ],
 "metadata": {
  "interpreter": {
   "hash": "e98e9768cb023e7c615d92e2b60789d511ec8e3d51eba73a4483127dc66b109e"
  },
  "kernelspec": {
   "display_name": "Python 3.9.7 ('base')",
   "language": "python",
   "name": "python3"
  },
  "language_info": {
   "codemirror_mode": {
    "name": "ipython",
    "version": 3
   },
   "file_extension": ".py",
   "mimetype": "text/x-python",
   "name": "python",
   "nbconvert_exporter": "python",
   "pygments_lexer": "ipython3",
   "version": "3.9.7"
  },
  "orig_nbformat": 4
 },
 "nbformat": 4,
 "nbformat_minor": 2
}
