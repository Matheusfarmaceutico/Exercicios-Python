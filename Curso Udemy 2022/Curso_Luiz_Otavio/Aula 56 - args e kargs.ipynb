{
 "cells": [
  {
   "cell_type": "code",
   "execution_count": 1,
   "metadata": {},
   "outputs": [
    {
     "name": "stdout",
     "output_type": "stream",
     "text": [
      "1 2 [3, 4, 5]\n"
     ]
    }
   ],
   "source": [
    "lista = [1,2,3,4,5]\n",
    "n1, n2, *n = lista\n",
    "print(n1,n2,n)\n"
   ]
  },
  {
   "cell_type": "code",
   "execution_count": 4,
   "metadata": {},
   "outputs": [
    {
     "name": "stdout",
     "output_type": "stream",
     "text": [
      "1-2-3-4-5\n"
     ]
    }
   ],
   "source": [
    "lista = [1,2,3,4,5]\n",
    "print(*lista,sep = '-')"
   ]
  },
  {
   "cell_type": "code",
   "execution_count": 2,
   "metadata": {},
   "outputs": [
    {
     "name": "stdout",
     "output_type": "stream",
     "text": [
      "[20, 2, 3, 4, 5, 6.6]\n"
     ]
    }
   ],
   "source": [
    "def func(*args):\n",
    "    args = list(args)\n",
    "    args[0] = 20\n",
    "    print(args)\n",
    "\n",
    "func(1,2,3,4,5,6.6)"
   ]
  },
  {
   "cell_type": "code",
   "execution_count": 3,
   "metadata": {},
   "outputs": [
    {
     "name": "stdout",
     "output_type": "stream",
     "text": [
      "([1, 2, 3, 4, 5],)\n"
     ]
    }
   ],
   "source": [
    "def func(*args):\n",
    "    print(args)\n",
    "lista = [1,2,3,4,5]\n",
    "func(*lista) #já mandar desempacotado"
   ]
  },
  {
   "cell_type": "code",
   "execution_count": 6,
   "metadata": {},
   "outputs": [
    {
     "name": "stdout",
     "output_type": "stream",
     "text": [
      "<class 'tuple'>\n",
      "35\n"
     ]
    }
   ],
   "source": [
    "def soma(*args):\n",
    "    print(type(args))\n",
    "    s = 0\n",
    "    for c, v in enumerate(args):\n",
    "        s += v\n",
    "\n",
    "    return s\n",
    "\n",
    "valor = soma(2,3,4,5,6,7,8)\n",
    "print(valor)"
   ]
  },
  {
   "cell_type": "code",
   "execution_count": 8,
   "metadata": {},
   "outputs": [
    {
     "name": "stdout",
     "output_type": "stream",
     "text": [
      "(1, 2, 3, 4, 5) {'nome': 'Matheus'}\n",
      "{'nome': 'Matheus'}\n",
      "Matheus\n"
     ]
    }
   ],
   "source": [
    "#uso do kwargs:1 maneira\n",
    "def func(*args,**kwargs):\n",
    "    print(args,kwargs)\n",
    "    print(kwargs)\n",
    "    print(kwargs['nome'])\n",
    "lista = [1,2,3,4,5]\n",
    "func(*lista,nome = 'Matheus')"
   ]
  },
  {
   "cell_type": "code",
   "execution_count": 10,
   "metadata": {},
   "outputs": [
    {
     "name": "stdout",
     "output_type": "stream",
     "text": [
      "Matheus\n",
      "23\n",
      "Matheus tem 23 anos\n"
     ]
    }
   ],
   "source": [
    "#uso do kwargs: 2 maneira\n",
    "def func(*args,**kwargs):\n",
    "    nome = kwargs.get('nome')\n",
    "    print(nome)\n",
    "    idade = kwargs.get('idade')\n",
    "    print(idade) #se o valor estiver ausente, retornará None.\n",
    "    if idade is not None: # verifiquei que idade != None também funciona.\n",
    "        print(f'{nome} tem {idade} anos')\n",
    "    else:\n",
    "        print('Valor não existe!')\n",
    "lista = [1,2,3,4,5]\n",
    "func(*lista,nome = 'Matheus',idade = 23)"
   ]
  }
 ],
 "metadata": {
  "interpreter": {
   "hash": "e98e9768cb023e7c615d92e2b60789d511ec8e3d51eba73a4483127dc66b109e"
  },
  "kernelspec": {
   "display_name": "Python 3.9.7 ('base')",
   "language": "python",
   "name": "python3"
  },
  "language_info": {
   "codemirror_mode": {
    "name": "ipython",
    "version": 3
   },
   "file_extension": ".py",
   "mimetype": "text/x-python",
   "name": "python",
   "nbconvert_exporter": "python",
   "pygments_lexer": "ipython3",
   "version": "3.9.7"
  },
  "orig_nbformat": 4
 },
 "nbformat": 4,
 "nbformat_minor": 2
}
