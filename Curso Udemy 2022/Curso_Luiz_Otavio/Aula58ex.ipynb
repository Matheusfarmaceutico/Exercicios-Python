{
 "cells": [
  {
   "cell_type": "markdown",
   "metadata": {},
   "source": [
    "Crie uma função1 que recebe uma funcao2 como parâmetro e retorne o valor da funcao2 executada."
   ]
  },
  {
   "cell_type": "code",
   "execution_count": 20,
   "metadata": {},
   "outputs": [
    {
     "name": "stdout",
     "output_type": "stream",
     "text": [
      "Olá\n"
     ]
    }
   ],
   "source": [
    "def func01(funcao):\n",
    "    return funcao()\n",
    "\n",
    "\n",
    "def func02():\n",
    "    return 'Olá' #entre parênteses para indicar que estou retornando uma função\n",
    "\n",
    "\n",
    "executar = func01(func02)\n",
    "print(executar)\n"
   ]
  },
  {
   "cell_type": "markdown",
   "metadata": {},
   "source": [
    "02 - Crie uma funcao1 que recebe uma funcao2 como parâmetro e retorne o valor da funcao2 executada. Faça a funcão01 executar duas funções que recebam um número diferente de argumentos."
   ]
  },
  {
   "cell_type": "code",
   "execution_count": 75,
   "metadata": {},
   "outputs": [
    {
     "name": "stdout",
     "output_type": "stream",
     "text": [
      "Olá Matheus\n",
      "Fala comigo, bebe\n"
     ]
    }
   ],
   "source": [
    "def mestre(funcao, *args, **kwargs):\n",
    "    return funcao(*args, **kwargs)\n",
    "\n",
    "def fala_comigo(nome):\n",
    "    return f'Fala comigo, {nome}'\n",
    "\n",
    "def saudacao(cumprimento, nome):\n",
    "    return f'{cumprimento} {nome}'\n",
    "\n",
    "\n",
    "saudandonormal= mestre(saudacao, cumprimento = 'Olá',nome ='Matheus')\n",
    "gustavolima = mestre(fala_comigo, nome = 'bebe')\n",
    "print(saudandonormal)\n",
    "print(gustavolima)\n"
   ]
  }
 ],
 "metadata": {
  "interpreter": {
   "hash": "e98e9768cb023e7c615d92e2b60789d511ec8e3d51eba73a4483127dc66b109e"
  },
  "kernelspec": {
   "display_name": "Python 3.9.7 ('base')",
   "language": "python",
   "name": "python3"
  },
  "language_info": {
   "codemirror_mode": {
    "name": "ipython",
    "version": 3
   },
   "file_extension": ".py",
   "mimetype": "text/x-python",
   "name": "python",
   "nbconvert_exporter": "python",
   "pygments_lexer": "ipython3",
   "version": "3.9.7"
  },
  "orig_nbformat": 4
 },
 "nbformat": 4,
 "nbformat_minor": 2
}
