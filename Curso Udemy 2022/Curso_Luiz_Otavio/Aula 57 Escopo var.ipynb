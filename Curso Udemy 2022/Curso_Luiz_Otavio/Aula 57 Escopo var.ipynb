{
 "cells": [
  {
   "cell_type": "markdown",
   "metadata": {},
   "source": [
    "Aula 57 - Escopo de variável"
   ]
  },
  {
   "cell_type": "code",
   "execution_count": 5,
   "metadata": {},
   "outputs": [
    {
     "name": "stdout",
     "output_type": "stream",
     "text": [
      "teste2000 2975739617392\n",
      "teste 2975770388848\n"
     ]
    }
   ],
   "source": [
    "var = 'teste'\n",
    "def ale():\n",
    "    var = 'teste2000'\n",
    "    print(var, id(var))\n",
    "ale()\n",
    "print(var,id(var))\n",
    "# note que por padrão, não consigo alterar o valor de uma variável global a partir de uma função. É criada uma outra variável, só que no escopo local. Contudo, há uma maneira de alterar uma variável global a partir de uma função, a qual veremos logo abaixo: "
   ]
  },
  {
   "cell_type": "code",
   "execution_count": 12,
   "metadata": {},
   "outputs": [
    {
     "name": "stdout",
     "output_type": "stream",
     "text": [
      "teste2 2975738633136\n",
      "teste2 2975738633136\n"
     ]
    }
   ],
   "source": [
    "#mudando o global a partir do local (de dentro da função) prática NÃO RECOMENDADA, SUJEITO A BUGS.\n",
    "variavel = 'teste'\n",
    "def outro():\n",
    "    global variavel\n",
    "    variavel = 'teste2'\n",
    "    print(variavel, id(variavel))\n",
    "outro()\n",
    "print(variavel,id(variavel))"
   ]
  },
  {
   "cell_type": "code",
   "execution_count": 21,
   "metadata": {},
   "outputs": [
    {
     "name": "stdout",
     "output_type": "stream",
     "text": [
      "calor\n"
     ]
    }
   ],
   "source": [
    "var = 'valor'\n",
    "def func(arg=None):\n",
    "    arg = arg.replace('v','c')\n",
    "    return arg\n",
    "\n",
    "\n",
    "outra = func(arg=var)\n",
    "print(outra)"
   ]
  },
  {
   "cell_type": "code",
   "execution_count": null,
   "metadata": {},
   "outputs": [],
   "source": []
  }
 ],
 "metadata": {
  "interpreter": {
   "hash": "e98e9768cb023e7c615d92e2b60789d511ec8e3d51eba73a4483127dc66b109e"
  },
  "kernelspec": {
   "display_name": "Python 3.9.7 ('base')",
   "language": "python",
   "name": "python3"
  },
  "language_info": {
   "codemirror_mode": {
    "name": "ipython",
    "version": 3
   },
   "file_extension": ".py",
   "mimetype": "text/x-python",
   "name": "python",
   "nbconvert_exporter": "python",
   "pygments_lexer": "ipython3",
   "version": "3.9.7"
  },
  "orig_nbformat": 4
 },
 "nbformat": 4,
 "nbformat_minor": 2
}
