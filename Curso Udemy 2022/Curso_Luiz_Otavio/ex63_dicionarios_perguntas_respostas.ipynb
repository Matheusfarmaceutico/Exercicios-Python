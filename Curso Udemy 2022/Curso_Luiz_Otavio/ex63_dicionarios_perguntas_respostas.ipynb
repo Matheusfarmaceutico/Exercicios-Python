{
 "cells": [
  {
   "cell_type": "code",
   "execution_count": 29,
   "metadata": {},
   "outputs": [
    {
     "name": "stdout",
     "output_type": "stream",
     "text": [
      "Pergunta 01: Quanto é 2 + 2?\n",
      "Alternativas:\n",
      "a: 1\n",
      "b: 4\n",
      "c: 15\n",
      "Pergunta 02: Quanto é 6 + 6?\n",
      "Alternativas:\n",
      "a: 13\n",
      "b: 14\n",
      "c: 12\n"
     ]
    }
   ],
   "source": [
    "perguntas = {\n",
    "    'Pergunta 01':\n",
    "    {'pergunta':'Quanto é 2 + 2?',\n",
    "    'alternativas':{'a':'1','b':'4','c':'15'},\n",
    "    'resposta_certa': 'b'},\n",
    "    'Pergunta 02':\n",
    "    {'pergunta':'Quanto é 6 + 6?',\n",
    "    'alternativas':{'a':'13','b':'14','c':'12'},\n",
    "    'resposta_certa':'c'},\n",
    "}\n",
    "\n",
    "for pk, pv in perguntas.items():\n",
    "    print(f'{pk}: {pv[\"pergunta\"]}')\n",
    "    print('Alternativas:')\n",
    "    for rk, rv in pv['alternativas'].items():\n",
    "    \n",
    "        print(f'{rk}: {rv}')\n",
    "\n"
   ]
  },
  {
   "cell_type": "code",
   "execution_count": 34,
   "metadata": {},
   "outputs": [
    {
     "name": "stdout",
     "output_type": "stream",
     "text": [
      "Pergunta 01: Quanto é 2 + 2?\n",
      "Alternativas: \n",
      "[a]: 1\n",
      "[b]: 4\n",
      "[c]: 15\n",
      "\n",
      "Pergunta 02: Quanto é 6 + 6?\n",
      "Alternativas: \n",
      "[a]: 13\n",
      "[b]: 14\n",
      "[c]: 12\n",
      "\n"
     ]
    }
   ],
   "source": [
    "perguntas = {\n",
    "    'Pergunta 01':\n",
    "    {'pergunta':'Quanto é 2 + 2?',\n",
    "    'alternativas':{'a':'1','b':'4','c':'15'},\n",
    "    'resposta_certa': 'b'},\n",
    "    'Pergunta 02':\n",
    "    {'pergunta':'Quanto é 6 + 6?',\n",
    "    'alternativas':{'a':'13','b':'14','c':'12'},\n",
    "    'resposta_certa':'c'},\n",
    "}\n",
    "for pk, pv in perguntas.items():\n",
    "    print(f'{pk}: {pv[\"pergunta\"]}')\n",
    "    print('Alternativas: ')\n",
    "    for rk, rv in pv['alternativas'].items():\n",
    "        print(f'[{rk}]: {rv}')\n",
    "    print()"
   ]
  }
 ],
 "metadata": {
  "interpreter": {
   "hash": "916dbcbb3f70747c44a77c7bcd40155683ae19c65e1c03b4aa3499c5328201f1"
  },
  "kernelspec": {
   "display_name": "Python 3.9.7 64-bit",
   "language": "python",
   "name": "python3"
  },
  "language_info": {
   "codemirror_mode": {
    "name": "ipython",
    "version": 3
   },
   "file_extension": ".py",
   "mimetype": "text/x-python",
   "name": "python",
   "nbconvert_exporter": "python",
   "pygments_lexer": "ipython3",
   "version": "3.9.7"
  },
  "orig_nbformat": 4
 },
 "nbformat": 4,
 "nbformat_minor": 2
}
